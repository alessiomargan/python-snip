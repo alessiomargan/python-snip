{
 "metadata": {
  "name": "",
  "signature": "sha256:6ed9f6a510a5514dd36d3185c3124c6f3ab77d316bc7ec7066830532bd287ca5"
 },
 "nbformat": 3,
 "nbformat_minor": 0,
 "worksheets": []
}