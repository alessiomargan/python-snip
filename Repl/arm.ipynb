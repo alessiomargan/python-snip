{
 "cells": [
  {
   "cell_type": "code",
   "execution_count": 6,
   "metadata": {},
   "outputs": [],
   "source": [
    "import yaml\n",
    "import argparse\n",
    "from protobuf_to_dict import protobuf_to_dict, dict_to_protobuf\n",
    "\n",
    "from repl_in import repl_option, gen_cmds\n",
    "from zmsg_io import ZmsgIO\n",
    "import repl_cmd_pb2 as repl_cmd\n",
    "\n",
    "uri = \"com-exp.local:5555\"\n",
    "#uri = \"localhost:5555\"\n",
    "io = ZmsgIO(uri)\n",
    "\n",
    "ids = [123,11,12,13,14,15]\n",
    "\n",
    "start = {\"type\": \"CTRL_CMD\", \"ctrl_cmd\": {\"type\": \"CTRL_CMD_START\",\"board_id\": 1}}\n",
    "stop  = {\"type\": \"CTRL_CMD\", \"ctrl_cmd\": {\"type\": \"CTRL_CMD_STOP\",\"board_id\": 1}}\n",
    "\n",
    "set_home = {\"type\": \"CTRL_CMD\", \"ctrl_cmd\": {\"type\": \"CTRL_SET_HOME\",\"board_id\": 1, \"value\": 0.0}}\n",
    "\n",
    "homing = {\"type\": \"SEND_TRAJECTORY\",\n",
    "          \"trajectory_cmd\": {\"type\": \"HOMING\", \"name\": \"homing\", \"board_id\": 1,\n",
    "                             \"homing_par\": {\"x\": [0,3]}}}\n",
    "smooth = {\"type\": \"SEND_TRAJECTORY\",\n",
    "          \"trajectory_cmd\": {\"type\": \"SMOOTHER\",\"name\": \"smooth\", \"board_id\": 1,\n",
    "                             \"smooth_par\": {\"x\": [0,1,2,3,4], \"y\": [0,1,2,1,0]}}} \n",
    "sine = {\"type\": \"SEND_TRAJECTORY\",\n",
    "        \"trajectory_cmd\": {\"type\": \"SINE\", \"name\": \"sine\", \"board_id\": 1,\n",
    "                           \"period_par\": {\"freq\": 0.2, \"ampl\": 2, \"teta\": 1, \"secs\": 7}}}\n",
    "\n"
   ]
  },
  {
   "cell_type": "code",
   "execution_count": 7,
   "metadata": {},
   "outputs": [
    {
     "name": "stdout",
     "output_type": "stream",
     "text": [
      "type: ACK\n",
      "cmd_type: CTRL_CMD\n",
      "msg: \"Ok google\"\n",
      "\n",
      "\"Ok google\"\n"
     ]
    }
   ],
   "source": [
    "\n",
    "io.send_to(start)\n",
    "reply = io.recv_from()"
   ]
  },
  {
   "cell_type": "code",
   "execution_count": 8,
   "metadata": {},
   "outputs": [
    {
     "name": "stdout",
     "output_type": "stream",
     "text": [
      "type: ACK\n",
      "cmd_type: CTRL_CMD\n",
      "msg: \"Ok google\"\n",
      "\n",
      "\"Ok google\"\n"
     ]
    }
   ],
   "source": [
    "io.send_to(set_home)\n",
    "reply = io.recv_from()"
   ]
  },
  {
   "cell_type": "code",
   "execution_count": 9,
   "metadata": {},
   "outputs": [
    {
     "name": "stdout",
     "output_type": "stream",
     "text": [
      "type: ACK\n",
      "cmd_type: SEND_TRAJECTORY\n",
      "msg: \"Ok google\"\n",
      "\n",
      "\"Ok google\"\n"
     ]
    }
   ],
   "source": [
    "io.send_to(homing)\n",
    "reply = io.recv_from()"
   ]
  },
  {
   "cell_type": "code",
   "execution_count": 10,
   "metadata": {},
   "outputs": [
    {
     "name": "stdout",
     "output_type": "stream",
     "text": [
      "type: ACK\n",
      "cmd_type: SEND_TRAJECTORY\n",
      "msg: \"Ok google\"\n",
      "\n",
      "\"Ok google\"\n"
     ]
    }
   ],
   "source": [
    "io.send_to(smooth)\n",
    "reply = io.recv_from()"
   ]
  },
  {
   "cell_type": "code",
   "execution_count": 12,
   "metadata": {},
   "outputs": [
    {
     "name": "stdout",
     "output_type": "stream",
     "text": [
      "type: ACK\n",
      "cmd_type: SEND_TRAJECTORY\n",
      "msg: \"Ok google\"\n",
      "\n",
      "\"Ok google\"\n"
     ]
    }
   ],
   "source": [
    "io.send_to(sine)\n",
    "reply = io.recv_from()"
   ]
  },
  {
   "cell_type": "code",
   "execution_count": 13,
   "metadata": {},
   "outputs": [
    {
     "name": "stdout",
     "output_type": "stream",
     "text": [
      "type: ACK\n",
      "cmd_type: SEND_TRAJECTORY\n",
      "msg: \"Ok google\"\n",
      "\n",
      "\"Ok google\"\n"
     ]
    }
   ],
   "source": [
    "io.send_to(homing)\n",
    "reply = io.recv_from()"
   ]
  },
  {
   "cell_type": "code",
   "execution_count": 14,
   "metadata": {},
   "outputs": [
    {
     "name": "stdout",
     "output_type": "stream",
     "text": [
      "type: ACK\n",
      "cmd_type: CTRL_CMD\n",
      "msg: \"Ok google\"\n",
      "\n",
      "\"Ok google\"\n"
     ]
    }
   ],
   "source": [
    "io.send_to(stop)\n",
    "reply = io.recv_from()"
   ]
  },
  {
   "cell_type": "code",
   "execution_count": null,
   "metadata": {},
   "outputs": [],
   "source": []
  },
  {
   "cell_type": "code",
   "execution_count": null,
   "metadata": {},
   "outputs": [],
   "source": []
  }
 ],
 "metadata": {
  "kernelspec": {
   "display_name": "Python 3",
   "language": "python",
   "name": "python3"
  },
  "language_info": {
   "codemirror_mode": {
    "name": "ipython",
    "version": 3
   },
   "file_extension": ".py",
   "mimetype": "text/x-python",
   "name": "python",
   "nbconvert_exporter": "python",
   "pygments_lexer": "ipython3",
   "version": "3.7.1"
  }
 },
 "nbformat": 4,
 "nbformat_minor": 2
}
