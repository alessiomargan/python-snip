{
 "cells": [
  {
   "cell_type": "code",
   "execution_count": 86,
   "metadata": {},
   "outputs": [],
   "source": [
    "import yaml\n",
    "import argparse\n",
    "from protobuf_to_dict import protobuf_to_dict, dict_to_protobuf\n",
    "\n",
    "import repl_cmd_pb2 as repl_cmd\n",
    "from repl_in import repl_option\n",
    "from zmsg_io import ZmsgIO\n",
    "from base_io import ctrl_cmd_start, ctrl_cmd_stop, ctrl_cmd_set_home, ctrl_cmd_set_zero, ctrl_cmd_set_min_pos, ctrl_cmd_set_max_pos, flash_cmd_save2flash, ctrl_cmd_fan \n",
    "\n",
    "uri = \"com-exp.local:5555\"\n",
    "#uri = \"localhost:5555\"\n",
    "io = ZmsgIO(uri)\n",
    "\n",
    "ids = [1,2,3,4,5]\n",
    "\n",
    "id = 4"
   ]
  },
  {
   "cell_type": "code",
   "execution_count": 58,
   "metadata": {},
   "outputs": [],
   "source": [
    "reply = io.doit(ctrl_cmd_set_zero(id)) "
   ]
  },
  {
   "cell_type": "code",
   "execution_count": 59,
   "metadata": {},
   "outputs": [],
   "source": [
    "reply = io.doit(ctrl_cmd_set_min_pos(id))"
   ]
  },
  {
   "cell_type": "code",
   "execution_count": 60,
   "metadata": {},
   "outputs": [],
   "source": [
    "reply = io.doit(ctrl_cmd_set_max_pos(id))"
   ]
  },
  {
   "cell_type": "code",
   "execution_count": 35,
   "metadata": {},
   "outputs": [],
   "source": []
  },
  {
   "cell_type": "code",
   "execution_count": 20,
   "metadata": {},
   "outputs": [],
   "source": [
    "#reply = io.doit(flash_cmd_save2flash(1))"
   ]
  },
  {
   "cell_type": "code",
   "execution_count": 91,
   "metadata": {},
   "outputs": [],
   "source": [
    "reply = io.doit(ctrl_cmd_fan(5,1))"
   ]
  },
  {
   "cell_type": "code",
   "execution_count": 92,
   "metadata": {},
   "outputs": [],
   "source": [
    "reply = io.doit(ctrl_cmd_fan(5,0))"
   ]
  },
  {
   "cell_type": "code",
   "execution_count": 88,
   "metadata": {},
   "outputs": [],
   "source": [
    "reply = io.doit4ids(ids,ctrl_cmd_fan(-1,0))"
   ]
  },
  {
   "cell_type": "code",
   "execution_count": null,
   "metadata": {},
   "outputs": [],
   "source": []
  }
 ],
 "metadata": {
  "kernelspec": {
   "display_name": "Python 3",
   "language": "python",
   "name": "python3"
  },
  "language_info": {
   "codemirror_mode": {
    "name": "ipython",
    "version": 3
   },
   "file_extension": ".py",
   "mimetype": "text/x-python",
   "name": "python",
   "nbconvert_exporter": "python",
   "pygments_lexer": "ipython3",
   "version": "3.7.1"
  }
 },
 "nbformat": 4,
 "nbformat_minor": 2
}
