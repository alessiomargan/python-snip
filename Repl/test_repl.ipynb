{
 "cells": [
  {
   "cell_type": "code",
   "execution_count": 1,
   "metadata": {},
   "outputs": [],
   "source": [
    "import yaml\n",
    "import argparse\n",
    "from protobuf_to_dict import protobuf_to_dict, dict_to_protobuf\n",
    "\n",
    "from repl_in import repl_option, gen_cmds\n",
    "from zmsg_io import ZmsgIO\n",
    "import repl_cmd_pb2 as repl_cmd\n"
   ]
  },
  {
   "cell_type": "code",
   "execution_count": 2,
   "metadata": {},
   "outputs": [
    {
     "name": "stdout",
     "output_type": "stream",
     "text": [
      "type: FLASH_CMD\n",
      "flash_cmd {\n",
      "  type: LOAD_DEFAULT_PARAMS\n",
      "  board_id: 696\n",
      "}\n",
      "\n"
     ]
    }
   ],
   "source": [
    "d = {\"type\": \"FLASH_CMD\", \"flash_cmd\": {\"type\": \"LOAD_DEFAULT_PARAMS\", \"board_id\": 696}}\n",
    "m = dict_to_protobuf(repl_cmd.Repl_cmd, values=d)\n",
    "print(m)"
   ]
  },
  {
   "cell_type": "code",
   "execution_count": 3,
   "metadata": {},
   "outputs": [],
   "source": [
    "opts = repl_option()\n",
    "#print(opts)\n",
    "#d = yaml.load(open(opts[\"repl_yaml\"], 'r'), Loader=yaml.FullLoader)\n",
    "d = yaml.load(open(\"repl.yaml\", 'r'))\n",
    "#print(d)\n",
    "io = ZmsgIO(d['uri'])"
   ]
  },
  {
   "cell_type": "code",
   "execution_count": null,
   "metadata": {},
   "outputs": [],
   "source": []
  },
  {
   "cell_type": "code",
   "execution_count": 4,
   "metadata": {},
   "outputs": [
    {
     "data": {
      "text/plain": [
       "[{'type': 'ECAT_MASTER_CMD', 'ecat_master_cmd': {'type': 'STOP_MASTER'}},\n",
       " {'type': 'ECAT_MASTER_CMD', 'ecat_master_cmd': {'type': 'START_MASTER'}},\n",
       " {'type': 'ECAT_MASTER_CMD', 'ecat_master_cmd': {'type': 'GET_SLAVES_DESCR'}}]"
      ]
     },
     "execution_count": 4,
     "metadata": {},
     "output_type": "execute_result"
    }
   ],
   "source": [
    "list(gen_cmds(d['cmds']))"
   ]
  },
  {
   "cell_type": "code",
   "execution_count": 5,
   "metadata": {},
   "outputs": [
    {
     "name": "stdout",
     "output_type": "stream",
     "text": [
      "type: ACK\n",
      "cmd_type: ECAT_MASTER_CMD\n",
      "msg: \"Success\"\n",
      "\n",
      "\"Success\"\n",
      "type: ACK\n",
      "cmd_type: ECAT_MASTER_CMD\n",
      "msg: \"Success\"\n",
      "\n",
      "\"Success\"\n",
      "type: ACK\n",
      "cmd_type: ECAT_MASTER_CMD\n",
      "msg: \"[{1: {active_ports: 1, esc_type: 21, poistion: 1, topology: 1}}]\"\n",
      "\n",
      "[{\"1\": {\"active_ports\": 1, \"esc_type\": 21, \"poistion\": 1, \"topology\": 1}}]\n"
     ]
    }
   ],
   "source": [
    "for cmd_dict in gen_cmds(d['cmds']):\n",
    "            ''' send cmd '''\n",
    "            io.send_to(cmd_dict)\n",
    "            ''' wait reply ... blocking'''\n",
    "            reply = io.recv_from()\n"
   ]
  },
  {
   "cell_type": "code",
   "execution_count": 6,
   "metadata": {},
   "outputs": [
    {
     "name": "stdout",
     "output_type": "stream",
     "text": [
      "type: ACK\n",
      "cmd_type: ECAT_MASTER_CMD\n",
      "msg: \"[{1: {active_ports: 1, esc_type: 21, poistion: 1, topology: 1}}]\"\n",
      "\n",
      "[{\"1\": {\"active_ports\": 1, \"esc_type\": 21, \"poistion\": 1, \"topology\": 1}}]\n"
     ]
    }
   ],
   "source": [
    "d = {\"type\": \"ECAT_MASTER_CMD\", \"ecat_master_cmd\": {\"type\": \"GET_SLAVES_DESCR\"}}\n",
    "''' send cmd '''\n",
    "io.send_to(d)\n",
    "''' wait reply ... blocking'''\n",
    "reply = io.recv_from()"
   ]
  },
  {
   "cell_type": "code",
   "execution_count": 12,
   "metadata": {},
   "outputs": [
    {
     "name": "stdout",
     "output_type": "stream",
     "text": [
      "type: NACK\n",
      "cmd_type: FOE_MASTER\n",
      "msg: \"Error !!!\"\n",
      "\n",
      "\"Error !!!\"\n"
     ]
    }
   ],
   "source": [
    "d = {\"type\": \"FOE_MASTER\",\n",
    "     \"foe_master\": {\"filename\": \"../examples/fw_update/fw_test/cent_AC_m3.bin\",\n",
    "                    \"password\": 0xA550,\n",
    "                   \"slave_pos\": 1}}\n",
    "''' send cmd '''\n",
    "io.send_to(d)\n",
    "''' wait reply ... blocking'''\n",
    "reply = io.recv_from()"
   ]
  },
  {
   "cell_type": "code",
   "execution_count": null,
   "metadata": {},
   "outputs": [],
   "source": []
  }
 ],
 "metadata": {
  "kernelspec": {
   "display_name": "Python 3",
   "language": "python",
   "name": "python3"
  },
  "language_info": {
   "codemirror_mode": {
    "name": "ipython",
    "version": 3
   },
   "file_extension": ".py",
   "mimetype": "text/x-python",
   "name": "python",
   "nbconvert_exporter": "python",
   "pygments_lexer": "ipython3",
   "version": "3.7.1"
  }
 },
 "nbformat": 4,
 "nbformat_minor": 2
}
