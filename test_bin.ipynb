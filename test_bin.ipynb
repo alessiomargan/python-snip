{
  "cells": [
    {
      "cell_type": "code",
      "execution_count": 1,
      "metadata": {
        "collapsed": false,
        "pycharm": {
          "is_executing": false
        }
      },
      "outputs": [
        {
          "traceback": [
            "\u001b[0;31m---------------------------------------------------------------------------\u001b[0m",
            "\u001b[0;31mFileNotFoundError\u001b[0m                         Traceback (most recent call last)",
            "\u001b[0;32m\u003cipython-input-1-13ebc6f14f59\u003e\u001b[0m in \u001b[0;36m\u003cmodule\u003e\u001b[0;34m\u001b[0m\n\u001b[1;32m     24\u001b[0m \u001b[0min_file\u001b[0m \u001b[0;34m\u003d\u001b[0m \u001b[0;34m\"/home/amargan/work/code/ecat_dev/ec_master_test/examples/ati_ft6_calib/data/ones.txt\"\u001b[0m\u001b[0;34m\u001b[0m\u001b[0;34m\u001b[0m\u001b[0m\n\u001b[1;32m     25\u001b[0m \u001b[0mout_file\u001b[0m \u001b[0;34m\u003d\u001b[0m \u001b[0;34m\"/tmp/cal_mat.bin\"\u001b[0m\u001b[0;34m\u001b[0m\u001b[0;34m\u001b[0m\u001b[0m\n\u001b[0;32m---\u003e 26\u001b[0;31m \u001b[0mwrite_cal_mat\u001b[0m\u001b[0;34m(\u001b[0m\u001b[0min_file\u001b[0m\u001b[0;34m,\u001b[0m \u001b[0mout_file\u001b[0m\u001b[0;34m)\u001b[0m\u001b[0;34m\u001b[0m\u001b[0;34m\u001b[0m\u001b[0m\n\u001b[0m\u001b[1;32m     27\u001b[0m \u001b[0;34m\u001b[0m\u001b[0m\n\u001b[1;32m     28\u001b[0m \u001b[0;34m\u001b[0m\u001b[0m\n",
            "\u001b[0;32m\u003cipython-input-1-13ebc6f14f59\u003e\u001b[0m in \u001b[0;36mwrite_cal_mat\u001b[0;34m(out_bin_file, in_txt_file)\u001b[0m\n\u001b[1;32m     10\u001b[0m     \"\"\"  \n\u001b[1;32m     11\u001b[0m \u001b[0;34m\u001b[0m\u001b[0m\n\u001b[0;32m---\u003e 12\u001b[0;31m     \u001b[0;32mwith\u001b[0m \u001b[0mopen\u001b[0m\u001b[0;34m(\u001b[0m\u001b[0min_txt_file\u001b[0m\u001b[0;34m,\u001b[0m \u001b[0;34m)\u001b[0m \u001b[0;32mas\u001b[0m \u001b[0min_txt\u001b[0m\u001b[0;34m:\u001b[0m\u001b[0;34m\u001b[0m\u001b[0;34m\u001b[0m\u001b[0m\n\u001b[0m\u001b[1;32m     13\u001b[0m         \u001b[0;32mwith\u001b[0m \u001b[0mopen\u001b[0m\u001b[0;34m(\u001b[0m\u001b[0mout_bin_file\u001b[0m\u001b[0;34m,\u001b[0m \u001b[0;34m\u0027wb\u0027\u001b[0m\u001b[0;34m)\u001b[0m \u001b[0;32mas\u001b[0m \u001b[0mout_bin\u001b[0m\u001b[0;34m:\u001b[0m\u001b[0;34m\u001b[0m\u001b[0;34m\u001b[0m\u001b[0m\n\u001b[1;32m     14\u001b[0m             \u001b[0;32mfor\u001b[0m \u001b[0mrow\u001b[0m \u001b[0;32min\u001b[0m \u001b[0mcsv\u001b[0m\u001b[0;34m.\u001b[0m\u001b[0mreader\u001b[0m\u001b[0;34m(\u001b[0m\u001b[0min_txt\u001b[0m\u001b[0;34m)\u001b[0m\u001b[0;34m:\u001b[0m\u001b[0;34m\u001b[0m\u001b[0;34m\u001b[0m\u001b[0m\n",
            "\u001b[0;31mFileNotFoundError\u001b[0m: [Errno 2] No such file or directory: \u0027/tmp/cal_mat.bin\u0027"
          ],
          "ename": "FileNotFoundError",
          "evalue": "[Errno 2] No such file or directory: \u0027/tmp/cal_mat.bin\u0027",
          "output_type": "error"
        }
      ],
      "source": [
        "import struct\n",
        "import csv\n",
        "\n",
        "\n",
        "def write_cal_mat(out_bin_file, in_txt_file):\n",
        "    \"\"\" \n",
        "    :param out_bin_file: \n",
        "    :param in_txt_file: \n",
        "    :return: \n",
        "    \"\"\"  \n",
        "    \n",
        "    with open(in_txt_file, ) as in_txt:\n",
        "        with open(out_bin_file, \u0027wb\u0027) as out_bin:\n",
        "            for row in csv.reader(in_txt):\n",
        "                print(len(row))\n",
        "                print(row)\n",
        "                fmt \u003d \"f\"*len(row)\n",
        "                try:\n",
        "                    data \u003d struct.pack(fmt, *[float(r) for r in row])\n",
        "                    out_bin.write(data)\n",
        "                except struct.error(e):\n",
        "                    print(e)\n",
        "\n",
        "in_file \u003d \"/home/amargan/work/code/ecat_dev/ec_master_test/examples/ati_ft6_calib/data/ones.txt\"\n",
        "out_file \u003d \"/tmp/cal_mat.bin\"\n",
        "write_cal_mat(in_file, out_file)\n",
        "\n",
        "\n"
      ]
    },
    {
      "cell_type": "code",
      "execution_count": 1,
      "metadata": {
        "pycharm": {}
      },
      "outputs": [
        {
          "data": {
            "text/plain": [
              "1.0"
            ]
          },
          "execution_count": 1,
          "metadata": {},
          "output_type": "execute_result"
        }
      ],
      "source": [
        ""
      ]
    },
    {
      "cell_type": "code",
      "execution_count": 2,
      "metadata": {
        "pycharm": {}
      },
      "outputs": [],
      "source": []
    },
    {
      "cell_type": "code",
      "execution_count": null,
      "metadata": {
        "pycharm": {}
      },
      "outputs": [],
      "source": []
    }
  ],
  "metadata": {
    "kernelspec": {
      "name": "python3",
      "language": "python",
      "display_name": "Python 3"
    },
    "language_info": {
      "codemirror_mode": {
        "name": "ipython",
        "version": 2
      },
      "file_extension": ".py",
      "mimetype": "text/x-python",
      "name": "python",
      "nbconvert_exporter": "python",
      "pygments_lexer": "ipython2",
      "version": "2.7.6"
    }
  },
  "nbformat": 4,
  "nbformat_minor": 0
}