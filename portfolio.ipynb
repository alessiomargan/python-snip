{
 "cells": [
  {
   "cell_type": "code",
   "execution_count": 8,
   "metadata": {},
   "outputs": [],
   "source": [
    "import math\n",
    "import yfinance as yf\n",
    "\n",
    "# 350 CE  +453.10 : in  8.9568 out 10.2514\n",
    "# 400 BRE -166.40 : in 10.7465 out 10.3305 \n",
    "# 125 VS  -296.40 : in 36.7608 out 34.39    \n",
    "\n",
    "\n",
    "def f(tmc, stock) :\n",
    "    pmc,n,pa = stock\n",
    "    if pa > tmc :\n",
    "        raise ValueError\n",
    "    na = (pmc - tmc ) * n  / (tmc - pa)\n",
    "    na = math.ceil(na)\n",
    "    return na, na*pa"
   ]
  },
  {
   "cell_type": "code",
   "execution_count": 10,
   "metadata": {},
   "outputs": [
    {
     "data": {
      "text/plain": [
       "(58, 1525.4)"
      ]
     },
     "execution_count": 10,
     "metadata": {},
     "output_type": "execute_result"
    }
   ],
   "source": [
    "STM = (31.8246, 325, 26.30)\n",
    "f(31.0,STM)"
   ]
  },
  {
   "cell_type": "code",
   "execution_count": null,
   "metadata": {},
   "outputs": [],
   "source": [
    "BRE = (10.8055, 400, 10.265)\n",
    "f(10.5,BRE)"
   ]
  },
  {
   "cell_type": "code",
   "execution_count": null,
   "metadata": {},
   "outputs": [],
   "source": [
    "yf_stm = yf.Ticker(\"STM\")\n",
    "print(yf_stm.history(period=\"1d\"))"
   ]
  },
  {
   "cell_type": "code",
   "execution_count": null,
   "metadata": {},
   "outputs": [],
   "source": []
  }
 ],
 "metadata": {
  "kernelspec": {
   "display_name": "Python 3",
   "language": "python",
   "name": "python3"
  },
  "language_info": {
   "codemirror_mode": {
    "name": "ipython",
    "version": 3
   },
   "file_extension": ".py",
   "mimetype": "text/x-python",
   "name": "python",
   "nbconvert_exporter": "python",
   "pygments_lexer": "ipython3",
   "version": "3.12.4"
  }
 },
 "nbformat": 4,
 "nbformat_minor": 2
}
