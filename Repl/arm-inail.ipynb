{
 "cells": [
  {
   "cell_type": "code",
   "execution_count": 4,
   "metadata": {},
   "outputs": [],
   "source": [
    "import socket\n",
    "import yaml\n",
    "import argparse\n",
    "from protobuf_to_dict import protobuf_to_dict, dict_to_protobuf\n",
    "\n",
    "import repl_cmd_pb2 as repl_cmd\n",
    "from repl_in import repl_option\n",
    "from zmsg_io import ZmsgIO\n",
    "from base_io import ctrl_cmd_start, ctrl_cmd_stop, ctrl_cmd_set_home, ctrl_cmd_set_zero \n",
    "\n",
    "\n",
    "uri = socket.gethostname()+\".local:5555\"\n",
    "#uri = \"localhost:5555\"\n",
    "io = ZmsgIO(uri)\n",
    "\n",
    "ids = [11,12,13,14,15]\n",
    "#ids = [1,2,3,4]\n",
    "#ids = [1,2]\n",
    "\n",
    "Y1,P2,P3,Y4,P5 = ids\n",
    "\n",
    "homing = {\"type\": \"TRJ_CMD\",\n",
    "          \"trajectory_cmd\": {\"type\": \"HOMING\", \"name\": \"homing\", \"board_id\": 1,\n",
    "                             \"homing_par\": {\"x\": [0,3]}}}\n",
    "\n",
    "xs = [0,1,2,3,4]\n",
    "smooth_fr_1 = {\"type\": \"TRJ_CMD\",\n",
    "             \"trajectory_cmd\": {\"type\": \"SMOOTHER\", \"name\": \"smooth_fr\", \"board_id\": Y1,\n",
    "                                \"smooth_par\": {\"x\": xs, \"y\": [0, 0.5, 0, -0.5, 0]}}} \n",
    "smooth_fr_2 = {\"type\": \"TRJ_CMD\",\n",
    "             \"trajectory_cmd\": {\"type\": \"SMOOTHER\", \"name\": \"smooth_fr\", \"board_id\": P2,\n",
    "                                \"smooth_par\": {\"x\": xs, \"y\": [1.5, 1, 1.3, 1, 1.5]}}} \n",
    "smooth_fr_3 = {\"type\": \"TRJ_CMD\",\n",
    "             \"trajectory_cmd\": {\"type\": \"SMOOTHER\", \"name\": \"smooth_fr\", \"board_id\": P3,\n",
    "                                \"smooth_par\": {\"x\": xs, \"y\": [-1.5, -1, -1.3, -1, -1.5]}}} \n",
    "smooth_fr_4 = {\"type\": \"TRJ_CMD\",\n",
    "             \"trajectory_cmd\": {\"type\": \"SMOOTHER\", \"name\": \"smooth_fr\", \"board_id\": Y4,\n",
    "                                \"smooth_par\": {\"x\": xs, \"y\": [0, 1, 0, -1, 0]}}} \n",
    "smooth_fr_5 = {\"type\": \"TRJ_CMD\",\n",
    "             \"trajectory_cmd\": {\"type\": \"SMOOTHER\", \"name\": \"smooth_fr\", \"board_id\": P5,\n",
    "                                \"smooth_par\": {\"x\": xs, \"y\": [0, 1, 0, -1, 0]}}} \n",
    "\n",
    "vert = {\"type\": \"TRJ_CMD\",\n",
    "             \"trajectory_cmd\": {\"type\": \"SMOOTHER\", \"name\": \"vert\", \"board_id\": -1,\n",
    "                                \"smooth_par\": {\"x\": [0,3], \"y\": [0, 0]}}} \n",
    "\n",
    "smooth_rr_1 = {\"type\": \"TRJ_CMD\",\n",
    "             \"trajectory_cmd\": {\"type\": \"SMOOTHER\", \"name\": \"smooth_rr\", \"board_id\": Y1,\n",
    "                                \"smooth_par\": {\"x\": xs, \"y\": [0, 0.5, 0, -0.5, 0]}}} \n",
    "smooth_rr_2 = {\"type\": \"TRJ_CMD\",\n",
    "             \"trajectory_cmd\": {\"type\": \"SMOOTHER\", \"name\": \"smooth_rr\", \"board_id\": P2,\n",
    "                                \"smooth_par\": {\"x\": [0,3], \"y\": [0, -1]}}} \n",
    "smooth_rr_3 = {\"type\": \"TRJ_CMD\",\n",
    "             \"trajectory_cmd\": {\"type\": \"SMOOTHER\", \"name\": \"smooth_rr\", \"board_id\": P3,\n",
    "                                \"smooth_par\": {\"x\": [0,3], \"y\": [0, 0.5]}}} \n",
    "smooth_rr_4 = {\"type\": \"TRJ_CMD\",\n",
    "             \"trajectory_cmd\": {\"type\": \"SMOOTHER\", \"name\": \"smooth_rr\", \"board_id\": Y4,\n",
    "                                \"smooth_par\": {\"x\": xs, \"y\": [0, 1, 0, -1, 0]}}} \n",
    "smooth_rr_5 = {\"type\": \"TRJ_CMD\",\n",
    "             \"trajectory_cmd\": {\"type\": \"SMOOTHER\", \"name\": \"smooth_rr\", \"board_id\": P5,\n",
    "                                \"smooth_par\": {\"x\": xs, \"y\": [0, 1, 0, -1, 0]}}} \n",
    "\n",
    "\n",
    "\n",
    "add_homing = {\"type\": \"TRJ_QUEUE_CMD\",\n",
    "              \"trj_queue_cmd\": {\"type\": \"PUSH_QUE\", \"trj_names\": [\"homing\"]}}\n",
    "add_smooth_fr = {\"type\": \"TRJ_QUEUE_CMD\",\n",
    "              \"trj_queue_cmd\": {\"type\": \"PUSH_QUE\", \"trj_names\": [\"smooth_fr\"]}}\n",
    "add_smooth_rr = {\"type\": \"TRJ_QUEUE_CMD\",\n",
    "              \"trj_queue_cmd\": {\"type\": \"PUSH_QUE\", \"trj_names\": [\"smooth_rr\"]}}\n",
    "\n",
    "add_vert = {\"type\": \"TRJ_QUEUE_CMD\",\n",
    "              \"trj_queue_cmd\": {\"type\": \"PUSH_QUE\", \"trj_names\": [\"vert\"]}}\n",
    "\n",
    "add_all = {\"type\": \"TRJ_QUEUE_CMD\",\n",
    "              \"trj_queue_cmd\": {\"type\": \"PUSH_QUE\", \"trj_names\":\n",
    "                                [\"homing\",\"smooth_fr\",\"vert\",\"smooth_rr\",\"vert\",\"homing\"]}}"
   ]
  },
  {
   "cell_type": "code",
   "execution_count": 5,
   "metadata": {},
   "outputs": [],
   "source": [
    "reply = io.doit4ids(ids,ctrl_cmd_set_home())\n",
    "reply = io.doit(ctrl_cmd_set_home(P2,1.5))\n",
    "reply = io.doit(ctrl_cmd_set_home(P3,-1.5))"
   ]
  },
  {
   "cell_type": "code",
   "execution_count": 6,
   "metadata": {},
   "outputs": [],
   "source": [
    "reply = io.doit4ids(ids,ctrl_cmd_start())"
   ]
  },
  {
   "cell_type": "code",
   "execution_count": 7,
   "metadata": {},
   "outputs": [],
   "source": [
    "# define trajectories\n",
    "reply = io.doit4ids(ids,homing)\n",
    "reply = io.doit(smooth_fr_1)\n",
    "reply = io.doit(smooth_fr_2)\n",
    "reply = io.doit(smooth_fr_3)\n",
    "reply = io.doit(smooth_fr_4)\n",
    "reply = io.doit(smooth_fr_5)\n",
    "reply = io.doit4ids(ids,vert)\n",
    "reply = io.doit(smooth_rr_2)\n",
    "reply = io.doit(smooth_rr_3)"
   ]
  },
  {
   "cell_type": "code",
   "execution_count": 8,
   "metadata": {},
   "outputs": [],
   "source": [
    "reply = io.doit(add_homing)"
   ]
  },
  {
   "cell_type": "code",
   "execution_count": 9,
   "metadata": {},
   "outputs": [],
   "source": [
    "reply = io.doit(add_smooth_fr)"
   ]
  },
  {
   "cell_type": "code",
   "execution_count": 10,
   "metadata": {},
   "outputs": [],
   "source": [
    "reply = io.doit(add_vert)"
   ]
  },
  {
   "cell_type": "code",
   "execution_count": 11,
   "metadata": {},
   "outputs": [],
   "source": [
    "reply = io.doit(add_smooth_rr)"
   ]
  },
  {
   "cell_type": "code",
   "execution_count": 12,
   "metadata": {},
   "outputs": [],
   "source": [
    "reply = io.doit(add_vert)"
   ]
  },
  {
   "cell_type": "code",
   "execution_count": 13,
   "metadata": {},
   "outputs": [],
   "source": [
    "reply = io.doit(add_homing)"
   ]
  },
  {
   "cell_type": "code",
   "execution_count": 14,
   "metadata": {},
   "outputs": [],
   "source": [
    "reply = io.doit(add_all)"
   ]
  },
  {
   "cell_type": "code",
   "execution_count": 15,
   "metadata": {},
   "outputs": [],
   "source": [
    "reply = io.doit4ids(ids,ctrl_cmd_stop())"
   ]
  },
  {
   "cell_type": "code",
   "execution_count": 15,
   "metadata": {},
   "outputs": [],
   "source": [
    "reply = io.doit(ctrl_cmd_stop(P2))"
   ]
  },
  {
   "cell_type": "code",
   "execution_count": 14,
   "metadata": {},
   "outputs": [],
   "source": [
    "reply = io.doit(ctrl_cmd_start(P2))"
   ]
  },
  {
   "cell_type": "code",
   "execution_count": 37,
   "metadata": {},
   "outputs": [
    {
     "data": {
      "text/plain": [
       "11"
      ]
     },
     "execution_count": 37,
     "metadata": {},
     "output_type": "execute_result"
    }
   ],
   "source": [
    "Y1"
   ]
  },
  {
   "cell_type": "code",
   "execution_count": null,
   "metadata": {},
   "outputs": [],
   "source": []
  }
 ],
 "metadata": {
  "kernelspec": {
   "display_name": "Python 3",
   "language": "python",
   "name": "python3"
  },
  "language_info": {
   "codemirror_mode": {
    "name": "ipython",
    "version": 3
   },
   "file_extension": ".py",
   "mimetype": "text/x-python",
   "name": "python",
   "nbconvert_exporter": "python",
   "pygments_lexer": "ipython3",
   "version": "3.7.1"
  }
 },
 "nbformat": 4,
 "nbformat_minor": 2
}
