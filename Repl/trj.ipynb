{
 "cells": [
  {
   "cell_type": "code",
   "execution_count": null,
   "metadata": {
    "pycharm": {
     "is_executing": false
    }
   },
   "outputs": [],
   "source": [
    "import yaml\n",
    "import argparse\n",
    "from protobuf_to_dict import protobuf_to_dict, dict_to_protobuf\n",
    "\n",
    "import repl_cmd_pb2 as repl_cmd\n",
    "from repl_in import repl_option\n",
    "from zmsg_io import ZmsgIO\n",
    "from base_io import ctrl_cmd_start, ctrl_cmd_stop, ctrl_cmd_set_home, ctrl_cmd_set_zero \n",
    "\n",
    "uri = \"com-exp.local:5555\"\n",
    "#uri = \"localhost:5555\"\n",
    "io = ZmsgIO(uri)\n",
    "\n",
    "bId = 123\n",
    "\n",
    "homing = {\"type\": \"TRJ_CMD\",\n",
    "          \"trajectory_cmd\": {\"type\": \"HOMING\", \"name\": \"homing\", \"board_id\": bId,\n",
    "                             \"homing_par\": {\"x\": [0,3]}}}\n",
    "smooth_1 = {\"type\": \"TRJ_CMD\",\n",
    "          \"trajectory_cmd\": {\"type\": \"SMOOTHER\",\"name\": \"smooth_1\", \"board_id\": bId,\n",
    "                             \"smooth_par\": {\"x\": [0,1,2,3,4], \"y\": [0, 1, 0, 1, 0]}}} \n",
    "smooth_2 = {\"type\": \"TRJ_CMD\",\n",
    "          \"trajectory_cmd\": {\"type\": \"SMOOTHER\",\"name\": \"smooth_2\", \"board_id\": bId,\n",
    "                             \"smooth_par\": {\"x\": [0,1,3,5,7], \"y\": [0,-1, 1,-1, 0]}}} \n",
    "smooth_3 = {\"type\": \"TRJ_CMD\",\n",
    "          \"trajectory_cmd\": {\"type\": \"SMOOTHER\",\"name\": \"smooth_3\", \"board_id\": bId,\n",
    "                             \"smooth_par\": {\"x\": [0,3], \"y\": [1,-1]}}} \n",
    "sine = {\"type\": \"TRJ_CMD\",\n",
    "        \"trajectory_cmd\": {\"type\": \"SINE\", \"name\": \"sine\", \"board_id\": bId,\n",
    "                           \"period_par\": {\"freq\": 0.2, \"ampl\": 2, \"teta\": 0, \"secs\": 5}}}\n",
    "\n",
    "add_homing = {\"type\": \"TRJ_QUEUE_CMD\",\n",
    "              \"trj_queue_cmd\": {\"type\": \"PUSH_QUE\", \"trj_names\": [\"homing\"]}}\n",
    "add_sine =   {\"type\": \"TRJ_QUEUE_CMD\",\n",
    "              \"trj_queue_cmd\": {\"type\": \"PUSH_QUE\", \"trj_names\": [\"sine\"]}}\n",
    "add_smooth = {\"type\": \"TRJ_QUEUE_CMD\",\n",
    "              \"trj_queue_cmd\": {\"type\": \"PUSH_QUE\", \"trj_names\": [\"smooth_1\",\"smooth_2\"]}}\n",
    "add_smooth_3 = {\"type\": \"TRJ_QUEUE_CMD\",\n",
    "              \"trj_queue_cmd\": {\"type\": \"PUSH_QUE\", \"trj_names\": [\"smooth_3\"]}}\n",
    "add_all =    {\"type\": \"TRJ_QUEUE_CMD\",\n",
    "              \"trj_queue_cmd\": {\"type\": \"PUSH_QUE\",\n",
    "                                \"trj_names\": [\"homing\",\"homing\",\"smooth_1\",\"smooth_2\"]}}\n",
    "\n",
    "\n",
    "\n"
   ]
  },
  {
   "cell_type": "code",
   "execution_count": null,
   "metadata": {
    "pycharm": {
     "is_executing": false
    }
   },
   "outputs": [],
   "source": [
    "reply = io.doit(ctrl_cmd_set_home(bId))\n",
    "reply = io.doit(ctrl_cmd_start(bId))"
   ]
  },
  {
   "cell_type": "code",
   "execution_count": null,
   "metadata": {
    "pycharm": {}
   },
   "outputs": [],
   "source": [
    "# define trajectories\n",
    "reply = io.doit(homing)\n",
    "#reply = io.doit(sine)\n",
    "reply = io.doit(smooth_1)\n",
    "reply = io.doit(smooth_2)\n",
    "reply = io.doit(smooth_3)"
   ]
  },
  {
   "cell_type": "code",
   "execution_count": null,
   "metadata": {
    "pycharm": {}
   },
   "outputs": [],
   "source": [
    "reply = io.doit(add_all)\n",
    "#reply = io.doit(add_homing)\n",
    "#reply = io.doit(add_sine)\n",
    "#reply = io.doit(homing)\n",
    "#reply = io.doit(add_homing)"
   ]
  },
  {
   "cell_type": "code",
   "execution_count": null,
   "metadata": {
    "pycharm": {}
   },
   "outputs": [],
   "source": [
    "reply = io.doit(add_sine)"
   ]
  },
  {
   "cell_type": "code",
   "execution_count": null,
   "metadata": {
    "pycharm": {}
   },
   "outputs": [],
   "source": [
    "reply = io.doit(add_homing)"
   ]
  },
  {
   "cell_type": "code",
   "execution_count": null,
   "metadata": {
    "pycharm": {}
   },
   "outputs": [],
   "source": [
    "reply = io.doit(add_smooth_3)"
   ]
  },
  {
   "cell_type": "code",
   "execution_count": null,
   "metadata": {
    "pycharm": {}
   },
   "outputs": [],
   "source": [
    "reply = io.doit(add_smooth)"
   ]
  },
  {
   "cell_type": "code",
   "execution_count": null,
   "metadata": {
    "pycharm": {}
   },
   "outputs": [],
   "source": [
    "reply = io.doit(ctrl_cmd_stop(bId))"
   ]
  },
  {
   "cell_type": "code",
   "execution_count": null,
   "metadata": {
    "pycharm": {}
   },
   "outputs": [],
   "source": []
  },
  {
   "cell_type": "code",
   "execution_count": null,
   "metadata": {
    "pycharm": {}
   },
   "outputs": [],
   "source": []
  },
  {
   "cell_type": "code",
   "execution_count": null,
   "metadata": {
    "pycharm": {}
   },
   "outputs": [],
   "source": []
  }
 ],
 "metadata": {
  "kernelspec": {
   "display_name": "Python 3",
   "language": "python",
   "name": "python3"
  },
  "language_info": {
   "codemirror_mode": {
    "name": "ipython",
    "version": 3
   },
   "file_extension": ".py",
   "mimetype": "text/x-python",
   "name": "python",
   "nbconvert_exporter": "python",
   "pygments_lexer": "ipython3",
   "version": "3.7.1"
  }
 },
 "nbformat": 4,
 "nbformat_minor": 2
}
