{
 "cells": [
  {
   "cell_type": "code",
   "execution_count": 7,
   "metadata": {},
   "outputs": [],
   "source": [
    "import yaml\n",
    "import argparse\n",
    "from protobuf_to_dict import protobuf_to_dict, dict_to_protobuf\n",
    "\n",
    "from repl_in import repl_option, gen_cmds\n",
    "from zmsg_io import ZmsgIO\n",
    "import repl_cmd_pb2 as repl_cmd\n",
    "\n",
    "uri = \"com-exp.local:5555\"\n",
    "io = ZmsgIO(uri)"
   ]
  },
  {
   "cell_type": "code",
   "execution_count": 8,
   "metadata": {},
   "outputs": [
    {
     "name": "stdout",
     "output_type": "stream",
     "text": [
      "type: NACK\n",
      "cmd_type: FOE_MASTER\n",
      "msg: \"Success\"\n",
      "\n",
      "\"Success\"\n"
     ]
    }
   ],
   "source": [
    "cmd = {\"type\": \"FOE_MASTER\",\n",
    "       \"foe_master\": {\"filename\": \"../examples/fw_update/fw_test/cent_AC_m3.bin\",\n",
    "                      \"password\": 0xA550, \"mcu_type\": \"m3\",\n",
    "                      \"slave_pos\": 1}}\n",
    "''' send cmd '''\n",
    "io.send_to(cmd)\n",
    "''' wait reply ... blocking'''\n",
    "reply = io.recv_from()"
   ]
  },
  {
   "cell_type": "code",
   "execution_count": 9,
   "metadata": {},
   "outputs": [
    {
     "name": "stdout",
     "output_type": "stream",
     "text": [
      "type: NACK\n",
      "cmd_type: FOE_MASTER\n",
      "msg: \"Success\"\n",
      "\n",
      "\"Success\"\n"
     ]
    }
   ],
   "source": [
    "cmd = {\"type\": \"FOE_MASTER\",\n",
    "       \"foe_master\": {\"filename\": \"../examples/fw_update/fw_test/cent_AC_c28.bin\",\n",
    "                      \"password\": 0xDAD0, \"mcu_type\": \"c28\",\n",
    "                      \"slave_pos\": 1}}\n",
    "''' send cmd '''\n",
    "io.send_to(cmd)\n",
    "''' wait reply ... blocking'''\n",
    "reply = io.recv_from()"
   ]
  },
  {
   "cell_type": "code",
   "execution_count": null,
   "metadata": {},
   "outputs": [],
   "source": []
  }
 ],
 "metadata": {
  "kernelspec": {
   "display_name": "Python 3",
   "language": "python",
   "name": "python3"
  },
  "language_info": {
   "codemirror_mode": {
    "name": "ipython",
    "version": 3
   },
   "file_extension": ".py",
   "mimetype": "text/x-python",
   "name": "python",
   "nbconvert_exporter": "python",
   "pygments_lexer": "ipython3",
   "version": "3.7.1"
  }
 },
 "nbformat": 4,
 "nbformat_minor": 2
}
