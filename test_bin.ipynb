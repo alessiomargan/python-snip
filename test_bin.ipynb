{
 "cells": [
  {
   "cell_type": "code",
   "execution_count": 2,
   "metadata": {
    "collapsed": false
   },
   "outputs": [
    {
     "name": "stdout",
     "output_type": "stream",
     "text": [
      "6\n['1', '0', '0', '0', '0', '0']\n6\n['0', '1', '0', '0', '0', '0']\n6\n['0', '0', '1', '0', '0', '0']\n6\n['0', '0', '0', '1', '0', '0']\n6\n['0', '0', '0', '0', '1', '0']\n6\n['0', '0', '0', '0', '0', '1']\n"
     ]
    }
   ],
   "source": [
    "import struct\n",
    "import csv\n",
    "\n",
    "\n",
    "def write_cal_mat(out_bin_file, in_txt_file):\n",
    "    \"\"\" \n",
    "    :param out_bin_file: \n",
    "    :param in_txt_file: \n",
    "    :return: \n",
    "    \"\"\"  \n",
    "    \n",
    "    with open(in_txt_file, ) as in_txt:\n",
    "        with open(out_bin_file, 'wb') as out_bin:\n",
    "            for row in csv.reader(in_txt):\n",
    "                print(len(row))\n",
    "                print(row)\n",
    "                fmt = \"f\"*len(row)\n",
    "                try:\n",
    "                    data = struct.pack(fmt, *[float(r) for r in row])\n",
    "                    out_bin.write(data)\n",
    "                except struct.error(e):\n",
    "                    print(e)\n",
    "\n",
    "in_file = \"/home/amargan/work/code/ecat_dev/ec_master_test/examples/ati_ft6_calib/data/ones.txt\"\n",
    "out_file = \"/tmp/cal_mat.bin\"\n",
    "write_cal_mat(in_file, out_file)\n",
    "\n",
    "\n"
   ]
  },
  {
   "cell_type": "code",
   "execution_count": 1,
   "metadata": {},
   "outputs": [
    {
     "data": {
      "text/plain": [
       "1.0"
      ]
     },
     "execution_count": 1,
     "metadata": {},
     "output_type": "execute_result"
    }
   ],
   "source": [
    ""
   ]
  },
  {
   "cell_type": "code",
   "execution_count": 2,
   "metadata": {},
   "outputs": [],
   "source": []
  },
  {
   "cell_type": "code",
   "execution_count": null,
   "metadata": {},
   "outputs": [],
   "source": []
  }
 ],
 "metadata": {
  "kernelspec": {
   "display_name": "Python 2",
   "language": "python",
   "name": "python2"
  },
  "language_info": {
   "codemirror_mode": {
    "name": "ipython",
    "version": 2
   },
   "file_extension": ".py",
   "mimetype": "text/x-python",
   "name": "python",
   "nbconvert_exporter": "python",
   "pygments_lexer": "ipython2",
   "version": "2.7.6"
  }
 },
 "nbformat": 4,
 "nbformat_minor": 0
}
