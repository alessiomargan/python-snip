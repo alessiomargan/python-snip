{
 "cells": [
  {
   "cell_type": "code",
   "execution_count": 14,
   "metadata": {},
   "outputs": [],
   "source": [
    "import yaml\n",
    "import argparse\n",
    "from protobuf_to_dict import protobuf_to_dict, dict_to_protobuf\n",
    "\n",
    "import repl_cmd_pb2 as repl_cmd\n",
    "from repl_in import repl_option\n",
    "from zmsg_io import ZmsgIO\n",
    "from base_io import ctrl_cmd_start, ctrl_cmd_stop, ctrl_cmd_set_home, ctrl_cmd_set_zero \n",
    "\n",
    "uri = \"com-exp.local:5555\"\n",
    "#uri = \"localhost:5555\"\n",
    "io = ZmsgIO(uri)\n",
    "\n",
    "#ids = [123,11,12,13,15]\n",
    "ids = [123,11,12,13,15]\n",
    "\n",
    "homing = {\"type\": \"TRJ_CMD\",\n",
    "          \"trajectory_cmd\": {\"type\": \"HOMING\", \"name\": \"homing\", \"board_id\": 1,\n",
    "                             \"homing_par\": {\"x\": [0,3]}}}\n",
    "\n",
    "xs = [0,1,2,3,4]\n",
    "smooth = {\"type\": \"TRJ_CMD\",\n",
    "          \"trajectory_cmd\": {\"type\": \"SMOOTHER\",\"name\": \"smooth\", \"board_id\": 1,\n",
    "                             \"smooth_par\": {\"x\": xs,\n",
    "                                            \"y\": [0,-0.3,0,-0.3,0]}}} \n",
    "\n",
    "smooth_12 = {\"type\": \"TRJ_CMD\",\n",
    "             \"trajectory_cmd\": {\"type\": \"SMOOTHER\",\n",
    "                                \"name\": \"smooth\",\n",
    "                                \"board_id\": 12,\n",
    "                                \"smooth_par\": {\"x\": xs,\n",
    "                                               \"y\": [-0.6,-0.4,-0.6,-0.8,-0.6]}\n",
    "                               }\n",
    "            } \n",
    "\n",
    "\n",
    "add_homing = {\"type\": \"TRJ_QUEUE_CMD\",\n",
    "              \"trj_queue_cmd\": {\"type\": \"PUSH_QUE\", \"trj_names\": [\"homing\"]}}\n",
    "\n",
    "add_smooth = {\"type\": \"TRJ_QUEUE_CMD\",\n",
    "              \"trj_queue_cmd\": {\"type\": \"PUSH_QUE\", \"trj_names\": [\"smooth\"]}}\n"
   ]
  },
  {
   "cell_type": "code",
   "execution_count": 8,
   "metadata": {},
   "outputs": [],
   "source": [
    "reply = io.doit4ids(ids,ctrl_cmd_set_home())\n",
    "reply = io.doit(ctrl_cmd_set_home(12,-0.6))"
   ]
  },
  {
   "cell_type": "code",
   "execution_count": 9,
   "metadata": {},
   "outputs": [],
   "source": [
    "reply = io.doit4ids(ids,ctrl_cmd_start())"
   ]
  },
  {
   "cell_type": "code",
   "execution_count": 15,
   "metadata": {},
   "outputs": [],
   "source": [
    "# define trajectories\n",
    "reply = io.doit4ids(ids,homing)\n",
    "reply = io.doit4ids(ids,smooth)\n",
    "reply = io.doit(smooth_12)"
   ]
  },
  {
   "cell_type": "code",
   "execution_count": 12,
   "metadata": {},
   "outputs": [],
   "source": [
    "reply = io.doit(add_homing)\n"
   ]
  },
  {
   "cell_type": "code",
   "execution_count": 16,
   "metadata": {},
   "outputs": [],
   "source": [
    "reply = io.doit(add_smooth)"
   ]
  },
  {
   "cell_type": "code",
   "execution_count": 17,
   "metadata": {},
   "outputs": [],
   "source": [
    "reply = io.doit4ids(ids,ctrl_cmd_stop())"
   ]
  },
  {
   "cell_type": "code",
   "execution_count": null,
   "metadata": {},
   "outputs": [],
   "source": []
  }
 ],
 "metadata": {
  "kernelspec": {
   "display_name": "Python 3",
   "language": "python",
   "name": "python3"
  },
  "language_info": {
   "codemirror_mode": {
    "name": "ipython",
    "version": 3
   },
   "file_extension": ".py",
   "mimetype": "text/x-python",
   "name": "python",
   "nbconvert_exporter": "python",
   "pygments_lexer": "ipython3",
   "version": "3.7.1"
  }
 },
 "nbformat": 4,
 "nbformat_minor": 2
}
